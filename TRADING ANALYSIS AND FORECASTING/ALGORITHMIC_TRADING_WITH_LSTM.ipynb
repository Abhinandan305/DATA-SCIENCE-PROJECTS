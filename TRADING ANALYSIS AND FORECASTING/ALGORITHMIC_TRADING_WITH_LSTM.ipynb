{
 "cells": [
  {
   "cell_type": "markdown",
   "id": "4402d09f",
   "metadata": {},
   "source": [
    "# Algorithmic Trading with Deep Learning\n",
    "This notebook demonstrates how to apply a Long Short-Term Memory (LSTM) model to predict stock prices based on historical data.\n",
    "\n",
    "We will:\n",
    "- Preprocess the data for the LSTM model\n",
    "- Build and train an LSTM model\n",
    "- Use the model to make predictions and visualize the results."
   ]
  },
  {
   "cell_type": "code",
   "execution_count": null,
   "id": "0a0dd8b9",
   "metadata": {},
   "outputs": [],
   "source": [
    "\n",
    "import pandas as pd\n",
    "import numpy as np\n",
    "import matplotlib.pyplot as plt\n",
    "from sklearn.preprocessing import MinMaxScaler\n",
    "from tensorflow.keras.models import Sequential\n",
    "from tensorflow.keras.layers import Dense, LSTM\n"
   ]
  },
  {
   "cell_type": "markdown",
   "id": "b8edd2a8",
   "metadata": {},
   "source": [
    "## Data Preparation\n",
    "We will start by loading and preparing the data for training the LSTM model. This includes normalizing the data and creating sequences for the model to learn from."
   ]
  },
  {
   "cell_type": "code",
   "execution_count": null,
   "id": "4101f2a4",
   "metadata": {},
   "outputs": [],
   "source": [
    "\n",
    "# Load your dataset\n",
    "data = pd.read_csv('path_to_your_data.csv', index_col='DateTime', parse_dates=True)\n",
    "\n",
    "# Feature selection: You can use 'Price' or a combination of 'Price' and other indicators you've computed.\n",
    "dataset = data[['Price']].values\n",
    "\n",
    "# Normalize the data\n",
    "scaler = MinMaxScaler(feature_range=(0, 1))\n",
    "scaled_data = scaler.fit_transform(dataset)\n",
    "\n",
    "# Prepare the training dataset\n",
    "sequence_length = 60  # Using the past 60 days to predict the next day\n",
    "X_train, y_train = [], []\n",
    "\n",
    "for i in range(sequence_length, len(scaled_data)):\n",
    "    X_train.append(scaled_data[i-sequence_length:i, 0])\n",
    "    y_train.append(scaled_data[i, 0])\n",
    "\n",
    "X_train, y_train = np.array(X_train), np.array(y_train)\n",
    "\n",
    "# Reshape the data for LSTM\n",
    "X_train = np.reshape(X_train, (X_train.shape[0], X_train.shape[1], 1))\n"
   ]
  },
  {
   "cell_type": "markdown",
   "id": "a8e69390",
   "metadata": {},
   "source": [
    "## Building and Training the LSTM Model\n",
    "Next, we will build an LSTM model and train it on the prepared data."
   ]
  },
  {
   "cell_type": "code",
   "execution_count": null,
   "id": "e94b4948",
   "metadata": {},
   "outputs": [],
   "source": [
    "\n",
    "# Initialize the LSTM model\n",
    "model = Sequential()\n",
    "\n",
    "# Adding the first LSTM layer with Dropout regularization\n",
    "model.add(LSTM(units=50, return_sequences=True, input_shape=(X_train.shape[1], 1)))\n",
    "model.add(Dense(units=25))\n",
    "\n",
    "# Adding a second LSTM layer\n",
    "model.add(LSTM(units=50, return_sequences=False))\n",
    "model.add(Dense(units=25))\n",
    "\n",
    "# Output layer\n",
    "model.add(Dense(units=1))\n",
    "\n",
    "# Compile the model\n",
    "model.compile(optimizer='adam', loss='mean_squared_error')\n",
    "\n",
    "# Train the model\n",
    "model.fit(X_train, y_train, epochs=20, batch_size=32)\n"
   ]
  },
  {
   "cell_type": "markdown",
   "id": "8c2a7c80",
   "metadata": {},
   "source": [
    "## Making Predictions and Visualization\n",
    "Finally, we will use the trained model to make predictions on the test data and visualize the predicted prices against the actual prices."
   ]
  },
  {
   "cell_type": "code",
   "execution_count": null,
   "id": "119f554f",
   "metadata": {},
   "outputs": [],
   "source": [
    "\n",
    "# Create the test data set\n",
    "test_data = scaled_data[-sequence_length:]\n",
    "X_test = []\n",
    "\n",
    "for i in range(sequence_length, len(test_data)):\n",
    "    X_test.append(test_data[i-sequence_length:i, 0])\n",
    "\n",
    "X_test = np.array(X_test)\n",
    "X_test = np.reshape(X_test, (X_test.shape[0], X_test.shape[1], 1))\n",
    "\n",
    "# Get the predicted prices\n",
    "predicted_price = model.predict(X_test)\n",
    "predicted_price = scaler.inverse_transform(predicted_price)\n",
    "\n",
    "# Plot the predictions\n",
    "plt.figure(figsize=(10, 6))\n",
    "plt.plot(data.index[-len(predicted_price):], dataset[-len(predicted_price):], color='blue', label='Actual Price')\n",
    "plt.plot(data.index[-len(predicted_price):], predicted_price, color='red', label='Predicted Price')\n",
    "plt.title('Price Prediction')\n",
    "plt.xlabel('Date')\n",
    "plt.ylabel('Price')\n",
    "plt.legend()\n",
    "plt.show()\n"
   ]
  }
 ],
 "metadata": {
  "kernelspec": {
   "display_name": "Python 3 (ipykernel)",
   "language": "python",
   "name": "python3"
  },
  "language_info": {
   "codemirror_mode": {
    "name": "ipython",
    "version": 3
   },
   "file_extension": ".py",
   "mimetype": "text/x-python",
   "name": "python",
   "nbconvert_exporter": "python",
   "pygments_lexer": "ipython3",
   "version": "3.11.5"
  }
 },
 "nbformat": 4,
 "nbformat_minor": 5
}
